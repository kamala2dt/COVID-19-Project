{
  "cells": [
    {
      "cell_type": "markdown",
      "metadata": {
        "id": "view-in-github",
        "colab_type": "text"
      },
      "source": [
        "<a href=\"https://colab.research.google.com/github/kamala2dt/kamala2dt/blob/main/M3ExploratoryDataAnalysis_lab.ipynb\" target=\"_parent\"><img src=\"https://colab.research.google.com/assets/colab-badge.svg\" alt=\"Open In Colab\"/></a>"
      ]
    },
    {
      "cell_type": "markdown",
      "metadata": {
        "id": "UkZHGF0l4d6s"
      },
      "source": [
        "<center>\n",
        "    <img src=\"https://gitlab.com/ibm/skills-network/courses/placeholder101/-/raw/master/labs/module%201/images/IDSNlogo.png\" width=\"300\" alt=\"cognitiveclass.ai logo\"  />\n",
        "</center>\n"
      ]
    },
    {
      "cell_type": "markdown",
      "metadata": {
        "id": "e615ziwD4d6v"
      },
      "source": [
        "# **Exploratory Data Analysis Lab**\n"
      ]
    },
    {
      "cell_type": "markdown",
      "metadata": {
        "id": "I2fDmwNd4d6w"
      },
      "source": [
        "Estimated time needed: **30** minutes\n"
      ]
    },
    {
      "cell_type": "markdown",
      "metadata": {
        "id": "dGs9MkMf4d6x"
      },
      "source": [
        "In this module you get to work with the cleaned dataset from the previous module.\n",
        "\n",
        "In this assignment you will perform the task of exploratory data analysis.\n",
        "You will find out the distribution of data, presence of outliers and also determine the correlation between different columns in the dataset.\n"
      ]
    },
    {
      "cell_type": "markdown",
      "metadata": {
        "id": "5f4ZrdHv4d6y"
      },
      "source": [
        "## Objectives\n"
      ]
    },
    {
      "cell_type": "markdown",
      "metadata": {
        "id": "c1688j8_4d6z"
      },
      "source": [
        "In this lab you will perform the following:\n"
      ]
    },
    {
      "cell_type": "markdown",
      "metadata": {
        "id": "GmV9iR__4d60"
      },
      "source": [
        "*   Identify the distribution of data in the dataset.\n",
        "\n",
        "*   Identify outliers in the dataset.\n",
        "\n",
        "*   Remove outliers from the dataset.\n",
        "\n",
        "*   Identify correlation between features in the dataset.\n"
      ]
    },
    {
      "cell_type": "markdown",
      "metadata": {
        "id": "fuFPtmr24d61"
      },
      "source": [
        "***\n"
      ]
    },
    {
      "cell_type": "markdown",
      "metadata": {
        "id": "WLy9ihLz4d63"
      },
      "source": [
        "## Hands on Lab\n"
      ]
    },
    {
      "cell_type": "markdown",
      "metadata": {
        "id": "2TheY5z-4d65"
      },
      "source": [
        "Import the pandas module.\n"
      ]
    },
    {
      "cell_type": "code",
      "execution_count": 1,
      "metadata": {
        "id": "rq3C-HrS4d66"
      },
      "outputs": [],
      "source": [
        "import pandas as pd"
      ]
    },
    {
      "cell_type": "markdown",
      "metadata": {
        "id": "_4ea0Aes4d68"
      },
      "source": [
        "Load the dataset into a dataframe.\n"
      ]
    },
    {
      "cell_type": "code",
      "execution_count": 2,
      "metadata": {
        "id": "vcrvL1I04d69"
      },
      "outputs": [],
      "source": [
        "df = pd.read_csv(\"https://cf-courses-data.s3.us.cloud-object-storage.appdomain.cloud/IBM-DA0321EN-SkillsNetwork/LargeData/m2_survey_data.csv\")"
      ]
    },
    {
      "cell_type": "code",
      "source": [
        "df.head()"
      ],
      "metadata": {
        "colab": {
          "base_uri": "https://localhost:8080/",
          "height": 647
        },
        "id": "ePSyWRaO5M1n",
        "outputId": "3849bb0b-8f04-4668-c8bf-4fa147c65826"
      },
      "execution_count": 10,
      "outputs": [
        {
          "output_type": "execute_result",
          "data": {
            "text/plain": [
              "   Respondent                      MainBranch Hobbyist  \\\n",
              "0           4  I am a developer by profession       No   \n",
              "1           9  I am a developer by profession      Yes   \n",
              "2          13  I am a developer by profession      Yes   \n",
              "3          16  I am a developer by profession      Yes   \n",
              "4          17  I am a developer by profession      Yes   \n",
              "\n",
              "                                         OpenSourcer  \\\n",
              "0                                              Never   \n",
              "1                         Once a month or more often   \n",
              "2  Less than once a month but more than once per ...   \n",
              "3                                              Never   \n",
              "4  Less than once a month but more than once per ...   \n",
              "\n",
              "                                          OpenSource          Employment  \\\n",
              "0  The quality of OSS and closed source software ...  Employed full-time   \n",
              "1  The quality of OSS and closed source software ...  Employed full-time   \n",
              "2  OSS is, on average, of HIGHER quality than pro...  Employed full-time   \n",
              "3  The quality of OSS and closed source software ...  Employed full-time   \n",
              "4  The quality of OSS and closed source software ...  Employed full-time   \n",
              "\n",
              "          Country Student                                            EdLevel  \\\n",
              "0   United States      No           Bachelor’s degree (BA, BS, B.Eng., etc.)   \n",
              "1     New Zealand      No  Some college/university study without earning ...   \n",
              "2   United States      No        Master’s degree (MA, MS, M.Eng., MBA, etc.)   \n",
              "3  United Kingdom      No        Master’s degree (MA, MS, M.Eng., MBA, etc.)   \n",
              "4       Australia      No           Bachelor’s degree (BA, BS, B.Eng., etc.)   \n",
              "\n",
              "                                      UndergradMajor  ...  \\\n",
              "0  Computer science, computer engineering, or sof...  ...   \n",
              "1  Computer science, computer engineering, or sof...  ...   \n",
              "2  Computer science, computer engineering, or sof...  ...   \n",
              "3                                                NaN  ...   \n",
              "4  Computer science, computer engineering, or sof...  ...   \n",
              "\n",
              "                              WelcomeChange  \\\n",
              "0   Just as welcome now as I felt last year   \n",
              "1   Just as welcome now as I felt last year   \n",
              "2  Somewhat more welcome now than last year   \n",
              "3   Just as welcome now as I felt last year   \n",
              "4   Just as welcome now as I felt last year   \n",
              "\n",
              "                                        SONewContent   Age Gender Trans  \\\n",
              "0  Tech articles written by other developers;Indu...  22.0    Man    No   \n",
              "1                                                NaN  23.0    Man    No   \n",
              "2  Tech articles written by other developers;Cour...  28.0    Man    No   \n",
              "3  Tech articles written by other developers;Indu...  26.0    Man    No   \n",
              "4  Tech articles written by other developers;Indu...  29.0    Man    No   \n",
              "\n",
              "                 Sexuality                              Ethnicity Dependents  \\\n",
              "0  Straight / Heterosexual           White or of European descent         No   \n",
              "1                 Bisexual           White or of European descent         No   \n",
              "2  Straight / Heterosexual           White or of European descent        Yes   \n",
              "3  Straight / Heterosexual           White or of European descent         No   \n",
              "4  Straight / Heterosexual  Hispanic or Latino/Latina;Multiracial         No   \n",
              "\n",
              "            SurveyLength                  SurveyEase  \n",
              "0  Appropriate in length                        Easy  \n",
              "1  Appropriate in length  Neither easy nor difficult  \n",
              "2  Appropriate in length                        Easy  \n",
              "3  Appropriate in length  Neither easy nor difficult  \n",
              "4  Appropriate in length                        Easy  \n",
              "\n",
              "[5 rows x 85 columns]"
            ],
            "text/html": [
              "\n",
              "  <div id=\"df-a812b651-a1be-4783-b1f4-11b1a554015c\">\n",
              "    <div class=\"colab-df-container\">\n",
              "      <div>\n",
              "<style scoped>\n",
              "    .dataframe tbody tr th:only-of-type {\n",
              "        vertical-align: middle;\n",
              "    }\n",
              "\n",
              "    .dataframe tbody tr th {\n",
              "        vertical-align: top;\n",
              "    }\n",
              "\n",
              "    .dataframe thead th {\n",
              "        text-align: right;\n",
              "    }\n",
              "</style>\n",
              "<table border=\"1\" class=\"dataframe\">\n",
              "  <thead>\n",
              "    <tr style=\"text-align: right;\">\n",
              "      <th></th>\n",
              "      <th>Respondent</th>\n",
              "      <th>MainBranch</th>\n",
              "      <th>Hobbyist</th>\n",
              "      <th>OpenSourcer</th>\n",
              "      <th>OpenSource</th>\n",
              "      <th>Employment</th>\n",
              "      <th>Country</th>\n",
              "      <th>Student</th>\n",
              "      <th>EdLevel</th>\n",
              "      <th>UndergradMajor</th>\n",
              "      <th>...</th>\n",
              "      <th>WelcomeChange</th>\n",
              "      <th>SONewContent</th>\n",
              "      <th>Age</th>\n",
              "      <th>Gender</th>\n",
              "      <th>Trans</th>\n",
              "      <th>Sexuality</th>\n",
              "      <th>Ethnicity</th>\n",
              "      <th>Dependents</th>\n",
              "      <th>SurveyLength</th>\n",
              "      <th>SurveyEase</th>\n",
              "    </tr>\n",
              "  </thead>\n",
              "  <tbody>\n",
              "    <tr>\n",
              "      <th>0</th>\n",
              "      <td>4</td>\n",
              "      <td>I am a developer by profession</td>\n",
              "      <td>No</td>\n",
              "      <td>Never</td>\n",
              "      <td>The quality of OSS and closed source software ...</td>\n",
              "      <td>Employed full-time</td>\n",
              "      <td>United States</td>\n",
              "      <td>No</td>\n",
              "      <td>Bachelor’s degree (BA, BS, B.Eng., etc.)</td>\n",
              "      <td>Computer science, computer engineering, or sof...</td>\n",
              "      <td>...</td>\n",
              "      <td>Just as welcome now as I felt last year</td>\n",
              "      <td>Tech articles written by other developers;Indu...</td>\n",
              "      <td>22.0</td>\n",
              "      <td>Man</td>\n",
              "      <td>No</td>\n",
              "      <td>Straight / Heterosexual</td>\n",
              "      <td>White or of European descent</td>\n",
              "      <td>No</td>\n",
              "      <td>Appropriate in length</td>\n",
              "      <td>Easy</td>\n",
              "    </tr>\n",
              "    <tr>\n",
              "      <th>1</th>\n",
              "      <td>9</td>\n",
              "      <td>I am a developer by profession</td>\n",
              "      <td>Yes</td>\n",
              "      <td>Once a month or more often</td>\n",
              "      <td>The quality of OSS and closed source software ...</td>\n",
              "      <td>Employed full-time</td>\n",
              "      <td>New Zealand</td>\n",
              "      <td>No</td>\n",
              "      <td>Some college/university study without earning ...</td>\n",
              "      <td>Computer science, computer engineering, or sof...</td>\n",
              "      <td>...</td>\n",
              "      <td>Just as welcome now as I felt last year</td>\n",
              "      <td>NaN</td>\n",
              "      <td>23.0</td>\n",
              "      <td>Man</td>\n",
              "      <td>No</td>\n",
              "      <td>Bisexual</td>\n",
              "      <td>White or of European descent</td>\n",
              "      <td>No</td>\n",
              "      <td>Appropriate in length</td>\n",
              "      <td>Neither easy nor difficult</td>\n",
              "    </tr>\n",
              "    <tr>\n",
              "      <th>2</th>\n",
              "      <td>13</td>\n",
              "      <td>I am a developer by profession</td>\n",
              "      <td>Yes</td>\n",
              "      <td>Less than once a month but more than once per ...</td>\n",
              "      <td>OSS is, on average, of HIGHER quality than pro...</td>\n",
              "      <td>Employed full-time</td>\n",
              "      <td>United States</td>\n",
              "      <td>No</td>\n",
              "      <td>Master’s degree (MA, MS, M.Eng., MBA, etc.)</td>\n",
              "      <td>Computer science, computer engineering, or sof...</td>\n",
              "      <td>...</td>\n",
              "      <td>Somewhat more welcome now than last year</td>\n",
              "      <td>Tech articles written by other developers;Cour...</td>\n",
              "      <td>28.0</td>\n",
              "      <td>Man</td>\n",
              "      <td>No</td>\n",
              "      <td>Straight / Heterosexual</td>\n",
              "      <td>White or of European descent</td>\n",
              "      <td>Yes</td>\n",
              "      <td>Appropriate in length</td>\n",
              "      <td>Easy</td>\n",
              "    </tr>\n",
              "    <tr>\n",
              "      <th>3</th>\n",
              "      <td>16</td>\n",
              "      <td>I am a developer by profession</td>\n",
              "      <td>Yes</td>\n",
              "      <td>Never</td>\n",
              "      <td>The quality of OSS and closed source software ...</td>\n",
              "      <td>Employed full-time</td>\n",
              "      <td>United Kingdom</td>\n",
              "      <td>No</td>\n",
              "      <td>Master’s degree (MA, MS, M.Eng., MBA, etc.)</td>\n",
              "      <td>NaN</td>\n",
              "      <td>...</td>\n",
              "      <td>Just as welcome now as I felt last year</td>\n",
              "      <td>Tech articles written by other developers;Indu...</td>\n",
              "      <td>26.0</td>\n",
              "      <td>Man</td>\n",
              "      <td>No</td>\n",
              "      <td>Straight / Heterosexual</td>\n",
              "      <td>White or of European descent</td>\n",
              "      <td>No</td>\n",
              "      <td>Appropriate in length</td>\n",
              "      <td>Neither easy nor difficult</td>\n",
              "    </tr>\n",
              "    <tr>\n",
              "      <th>4</th>\n",
              "      <td>17</td>\n",
              "      <td>I am a developer by profession</td>\n",
              "      <td>Yes</td>\n",
              "      <td>Less than once a month but more than once per ...</td>\n",
              "      <td>The quality of OSS and closed source software ...</td>\n",
              "      <td>Employed full-time</td>\n",
              "      <td>Australia</td>\n",
              "      <td>No</td>\n",
              "      <td>Bachelor’s degree (BA, BS, B.Eng., etc.)</td>\n",
              "      <td>Computer science, computer engineering, or sof...</td>\n",
              "      <td>...</td>\n",
              "      <td>Just as welcome now as I felt last year</td>\n",
              "      <td>Tech articles written by other developers;Indu...</td>\n",
              "      <td>29.0</td>\n",
              "      <td>Man</td>\n",
              "      <td>No</td>\n",
              "      <td>Straight / Heterosexual</td>\n",
              "      <td>Hispanic or Latino/Latina;Multiracial</td>\n",
              "      <td>No</td>\n",
              "      <td>Appropriate in length</td>\n",
              "      <td>Easy</td>\n",
              "    </tr>\n",
              "  </tbody>\n",
              "</table>\n",
              "<p>5 rows × 85 columns</p>\n",
              "</div>\n",
              "      <button class=\"colab-df-convert\" onclick=\"convertToInteractive('df-a812b651-a1be-4783-b1f4-11b1a554015c')\"\n",
              "              title=\"Convert this dataframe to an interactive table.\"\n",
              "              style=\"display:none;\">\n",
              "        \n",
              "  <svg xmlns=\"http://www.w3.org/2000/svg\" height=\"24px\"viewBox=\"0 0 24 24\"\n",
              "       width=\"24px\">\n",
              "    <path d=\"M0 0h24v24H0V0z\" fill=\"none\"/>\n",
              "    <path d=\"M18.56 5.44l.94 2.06.94-2.06 2.06-.94-2.06-.94-.94-2.06-.94 2.06-2.06.94zm-11 1L8.5 8.5l.94-2.06 2.06-.94-2.06-.94L8.5 2.5l-.94 2.06-2.06.94zm10 10l.94 2.06.94-2.06 2.06-.94-2.06-.94-.94-2.06-.94 2.06-2.06.94z\"/><path d=\"M17.41 7.96l-1.37-1.37c-.4-.4-.92-.59-1.43-.59-.52 0-1.04.2-1.43.59L10.3 9.45l-7.72 7.72c-.78.78-.78 2.05 0 2.83L4 21.41c.39.39.9.59 1.41.59.51 0 1.02-.2 1.41-.59l7.78-7.78 2.81-2.81c.8-.78.8-2.07 0-2.86zM5.41 20L4 18.59l7.72-7.72 1.47 1.35L5.41 20z\"/>\n",
              "  </svg>\n",
              "      </button>\n",
              "      \n",
              "  <style>\n",
              "    .colab-df-container {\n",
              "      display:flex;\n",
              "      flex-wrap:wrap;\n",
              "      gap: 12px;\n",
              "    }\n",
              "\n",
              "    .colab-df-convert {\n",
              "      background-color: #E8F0FE;\n",
              "      border: none;\n",
              "      border-radius: 50%;\n",
              "      cursor: pointer;\n",
              "      display: none;\n",
              "      fill: #1967D2;\n",
              "      height: 32px;\n",
              "      padding: 0 0 0 0;\n",
              "      width: 32px;\n",
              "    }\n",
              "\n",
              "    .colab-df-convert:hover {\n",
              "      background-color: #E2EBFA;\n",
              "      box-shadow: 0px 1px 2px rgba(60, 64, 67, 0.3), 0px 1px 3px 1px rgba(60, 64, 67, 0.15);\n",
              "      fill: #174EA6;\n",
              "    }\n",
              "\n",
              "    [theme=dark] .colab-df-convert {\n",
              "      background-color: #3B4455;\n",
              "      fill: #D2E3FC;\n",
              "    }\n",
              "\n",
              "    [theme=dark] .colab-df-convert:hover {\n",
              "      background-color: #434B5C;\n",
              "      box-shadow: 0px 1px 3px 1px rgba(0, 0, 0, 0.15);\n",
              "      filter: drop-shadow(0px 1px 2px rgba(0, 0, 0, 0.3));\n",
              "      fill: #FFFFFF;\n",
              "    }\n",
              "  </style>\n",
              "\n",
              "      <script>\n",
              "        const buttonEl =\n",
              "          document.querySelector('#df-a812b651-a1be-4783-b1f4-11b1a554015c button.colab-df-convert');\n",
              "        buttonEl.style.display =\n",
              "          google.colab.kernel.accessAllowed ? 'block' : 'none';\n",
              "\n",
              "        async function convertToInteractive(key) {\n",
              "          const element = document.querySelector('#df-a812b651-a1be-4783-b1f4-11b1a554015c');\n",
              "          const dataTable =\n",
              "            await google.colab.kernel.invokeFunction('convertToInteractive',\n",
              "                                                     [key], {});\n",
              "          if (!dataTable) return;\n",
              "\n",
              "          const docLinkHtml = 'Like what you see? Visit the ' +\n",
              "            '<a target=\"_blank\" href=https://colab.research.google.com/notebooks/data_table.ipynb>data table notebook</a>'\n",
              "            + ' to learn more about interactive tables.';\n",
              "          element.innerHTML = '';\n",
              "          dataTable['output_type'] = 'display_data';\n",
              "          await google.colab.output.renderOutput(dataTable, element);\n",
              "          const docLink = document.createElement('div');\n",
              "          docLink.innerHTML = docLinkHtml;\n",
              "          element.appendChild(docLink);\n",
              "        }\n",
              "      </script>\n",
              "    </div>\n",
              "  </div>\n",
              "  "
            ]
          },
          "metadata": {},
          "execution_count": 10
        }
      ]
    },
    {
      "cell_type": "code",
      "source": [
        "df.shape"
      ],
      "metadata": {
        "colab": {
          "base_uri": "https://localhost:8080/"
        },
        "id": "l5T1qUzA5Sw7",
        "outputId": "91a0990a-e205-4269-86f8-c050f2c4c401"
      },
      "execution_count": 11,
      "outputs": [
        {
          "output_type": "execute_result",
          "data": {
            "text/plain": [
              "(11398, 85)"
            ]
          },
          "metadata": {},
          "execution_count": 11
        }
      ]
    },
    {
      "cell_type": "markdown",
      "metadata": {
        "id": "EBN1y8j34d69"
      },
      "source": [
        "## Distribution\n"
      ]
    },
    {
      "cell_type": "markdown",
      "metadata": {
        "id": "3NzTentq4d6-"
      },
      "source": [
        "### Determine how the data is distributed\n"
      ]
    },
    {
      "cell_type": "markdown",
      "metadata": {
        "id": "oI4DWe5B4d6-"
      },
      "source": [
        "The column `ConvertedComp` contains Salary converted to annual USD salaries using the exchange rate on 2019-02-01.\n",
        "\n",
        "This assumes 12 working months and 50 working weeks.\n"
      ]
    },
    {
      "cell_type": "markdown",
      "metadata": {
        "id": "ErJkAjsl4d6_"
      },
      "source": [
        "Plot the distribution curve for the column `ConvertedComp`.\n"
      ]
    },
    {
      "cell_type": "code",
      "execution_count": 12,
      "metadata": {
        "id": "p-zcH_P-4d6_"
      },
      "outputs": [],
      "source": [
        "# your code goes here\n",
        "import numpy as np\n",
        "import matplotlib.pyplot as plt\n",
        "import seaborn as sns\n",
        "from scipy.stats import norm\n",
        "%matplotlib inline"
      ]
    },
    {
      "cell_type": "code",
      "source": [
        "plt.figure(figsize=(10,5))\n",
        "sns.distplot(a=df[\"ConvertedComp\"],bins=20,hist=False)\n",
        "plt.show()"
      ],
      "metadata": {
        "colab": {
          "base_uri": "https://localhost:8080/",
          "height": 400
        },
        "id": "ryOanYIJ5j8M",
        "outputId": "e2d3e2c1-35fa-47d4-d5fc-c1fdc51afeb0"
      },
      "execution_count": 13,
      "outputs": [
        {
          "output_type": "stream",
          "name": "stderr",
          "text": [
            "/usr/local/lib/python3.7/dist-packages/seaborn/distributions.py:2619: FutureWarning: `distplot` is a deprecated function and will be removed in a future version. Please adapt your code to use either `displot` (a figure-level function with similar flexibility) or `kdeplot` (an axes-level function for kernel density plots).\n",
            "  warnings.warn(msg, FutureWarning)\n"
          ]
        },
        {
          "output_type": "display_data",
          "data": {
            "text/plain": [
              "<Figure size 720x360 with 1 Axes>"
            ],
            "image/png": "[encoded data removed]"
          },
          "metadata": {
            "needs_background": "light"
          }
        }
      ]
    },
    {
      "cell_type": "markdown",
      "metadata": {
        "id": "d6oWKzSe4d6_"
      },
      "source": [
        "Plot the histogram for the column `ConvertedComp`.\n"
      ]
    },
    {
      "cell_type": "code",
      "execution_count": 14,
      "metadata": {
        "colab": {
          "base_uri": "https://localhost:8080/",
          "height": 389
        },
        "id": "2BjzGF-Q4d7D",
        "outputId": "16876d55-e324-488e-f22a-3fcf71a95e0d"
      },
      "outputs": [
        {
          "output_type": "stream",
          "name": "stderr",
          "text": [
            "/usr/local/lib/python3.7/dist-packages/seaborn/distributions.py:2619: FutureWarning: `distplot` is a deprecated function and will be removed in a future version. Please adapt your code to use either `displot` (a figure-level function with similar flexibility) or `histplot` (an axes-level function for histograms).\n",
            "  warnings.warn(msg, FutureWarning)\n"
          ]
        },
        {
          "output_type": "display_data",
          "data": {
            "text/plain": [
              "<Figure size 720x360 with 1 Axes>"
            ],
            "image/png": "[encoded data removed]"
          },
          "metadata": {
            "needs_background": "light"
          }
        }
      ],
      "source": [
        "# your code goes here\n",
        "plt.figure(figsize=(10,5))\n",
        "sns.distplot(a=df[\"ConvertedComp\"],bins=20,kde=False)\n",
        "plt.show()"
      ]
    },
    {
      "cell_type": "markdown",
      "metadata": {
        "id": "gpC-ggxf4d7D"
      },
      "source": [
        "What is the median of the column `ConvertedComp`?\n"
      ]
    },
    {
      "cell_type": "code",
      "execution_count": 15,
      "metadata": {
        "colab": {
          "base_uri": "https://localhost:8080/"
        },
        "id": "8JenjP8U4d7E",
        "outputId": "5e11ffa1-61ab-4003-9262-41285cf062a0"
      },
      "outputs": [
        {
          "output_type": "execute_result",
          "data": {
            "text/plain": [
              "57745.0"
            ]
          },
          "metadata": {},
          "execution_count": 15
        }
      ],
      "source": [
        "# your code goes here\n",
        "df[\"ConvertedComp\"].median()"
      ]
    },
    {
      "cell_type": "markdown",
      "metadata": {
        "id": "7j3przrc4d7E"
      },
      "source": [
        "How many responders identified themselves only as a **Man**?\n"
      ]
    },
    {
      "cell_type": "code",
      "execution_count": 16,
      "metadata": {
        "colab": {
          "base_uri": "https://localhost:8080/"
        },
        "id": "IRVQF0UK4d7F",
        "outputId": "e4731ce6-be9d-4c5b-b467-8b0f5e7bd28d"
      },
      "outputs": [
        {
          "output_type": "execute_result",
          "data": {
            "text/plain": [
              "Man                                                            10480\n",
              "Woman                                                            731\n",
              "Non-binary, genderqueer, or gender non-conforming                 63\n",
              "Man;Non-binary, genderqueer, or gender non-conforming             26\n",
              "Woman;Non-binary, genderqueer, or gender non-conforming           14\n",
              "Woman;Man                                                          9\n",
              "Woman;Man;Non-binary, genderqueer, or gender non-conforming        2\n",
              "Name: Gender, dtype: int64"
            ]
          },
          "metadata": {},
          "execution_count": 16
        }
      ],
      "source": [
        "# your code goes here\n",
        "df[\"Gender\"].value_counts()"
      ]
    },
    {
      "cell_type": "markdown",
      "metadata": {
        "id": "qvzOniys4d7G"
      },
      "source": [
        "Find out the  median ConvertedComp of responders identified themselves only as a **Woman**?\n"
      ]
    },
    {
      "cell_type": "code",
      "execution_count": 17,
      "metadata": {
        "colab": {
          "base_uri": "https://localhost:8080/"
        },
        "id": "uUHVQcHu4d7G",
        "outputId": "9dc90a8e-c717-4060-a407-2353dc7764a0"
      },
      "outputs": [
        {
          "output_type": "execute_result",
          "data": {
            "text/plain": [
              "57708.0"
            ]
          },
          "metadata": {},
          "execution_count": 17
        }
      ],
      "source": [
        "# your code goes here\n",
        "df[df['Gender'] == 'Woman']['ConvertedComp'].median()"
      ]
    },
    {
      "cell_type": "markdown",
      "source": [
        "Option 2\n"
      ],
      "metadata": {
        "id": "PRjlHuVJ6-DX"
      }
    },
    {
      "cell_type": "code",
      "source": [
        "woman = df[df[\"Gender\"] == \"Woman\"]\n",
        "woman[\"ConvertedComp\"].median()"
      ],
      "metadata": {
        "colab": {
          "base_uri": "https://localhost:8080/"
        },
        "id": "Qw0PFMx87AF1",
        "outputId": "59d6c0a7-4ac7-4684-b411-f8648b88528c"
      },
      "execution_count": 19,
      "outputs": [
        {
          "output_type": "execute_result",
          "data": {
            "text/plain": [
              "57708.0"
            ]
          },
          "metadata": {},
          "execution_count": 19
        }
      ]
    },
    {
      "cell_type": "markdown",
      "source": [
        "Median as only Man"
      ],
      "metadata": {
        "id": "4wD0F_Th7DIh"
      }
    },
    {
      "cell_type": "code",
      "source": [
        "df[df['Gender'] == 'Man']['ConvertedComp'].median()"
      ],
      "metadata": {
        "colab": {
          "base_uri": "https://localhost:8080/"
        },
        "id": "xzk97h6e66A_",
        "outputId": "ab1a6af1-3209-4b47-9bc7-be9d1b02d6f1"
      },
      "execution_count": 18,
      "outputs": [
        {
          "output_type": "execute_result",
          "data": {
            "text/plain": [
              "57744.0"
            ]
          },
          "metadata": {},
          "execution_count": 18
        }
      ]
    },
    {
      "cell_type": "markdown",
      "metadata": {
        "id": "j6i0ijeZ4d7G"
      },
      "source": [
        "Give the five number summary for the column `Age`?\n"
      ]
    },
    {
      "cell_type": "markdown",
      "metadata": {
        "id": "jR_XDrEf4d7H"
      },
      "source": [
        "**Double click here for hint**.\n",
        "\n",
        "\n",
        "min,q1,median,q3,max of a column are its five number summary.\n",
        "\n"
      ]
    },
    {
      "cell_type": "code",
      "execution_count": 20,
      "metadata": {
        "colab": {
          "base_uri": "https://localhost:8080/"
        },
        "id": "Z7DeFEzQ4d7H",
        "outputId": "c5ced078-b6b2-4e87-da0f-f35c042703cf"
      },
      "outputs": [
        {
          "output_type": "execute_result",
          "data": {
            "text/plain": [
              "count    11111.000000\n",
              "mean        30.778895\n",
              "std          7.393686\n",
              "min         16.000000\n",
              "25%         25.000000\n",
              "50%         29.000000\n",
              "75%         35.000000\n",
              "max         99.000000\n",
              "Name: Age, dtype: float64"
            ]
          },
          "metadata": {},
          "execution_count": 20
        }
      ],
      "source": [
        "# your code goes here\n",
        "df[\"Age\"].describe()"
      ]
    },
    {
      "cell_type": "code",
      "source": [
        "df['Age'].median()"
      ],
      "metadata": {
        "colab": {
          "base_uri": "https://localhost:8080/"
        },
        "id": "PI5wRPFQ7fa5",
        "outputId": "7856a2b0-fbe5-4cb4-a470-160111f4228f"
      },
      "execution_count": 21,
      "outputs": [
        {
          "output_type": "execute_result",
          "data": {
            "text/plain": [
              "29.0"
            ]
          },
          "metadata": {},
          "execution_count": 21
        }
      ]
    },
    {
      "cell_type": "markdown",
      "metadata": {
        "id": "wCWYJ8RO4d7H"
      },
      "source": [
        "Plot a histogram of the column `Age`.\n"
      ]
    },
    {
      "cell_type": "code",
      "execution_count": 22,
      "metadata": {
        "colab": {
          "base_uri": "https://localhost:8080/",
          "height": 389
        },
        "id": "LiPQIpyL4d7H",
        "outputId": "48d90521-7836-4109-86cf-821bdfc1007d"
      },
      "outputs": [
        {
          "output_type": "stream",
          "name": "stderr",
          "text": [
            "/usr/local/lib/python3.7/dist-packages/seaborn/distributions.py:2619: FutureWarning: `distplot` is a deprecated function and will be removed in a future version. Please adapt your code to use either `displot` (a figure-level function with similar flexibility) or `histplot` (an axes-level function for histograms).\n",
            "  warnings.warn(msg, FutureWarning)\n"
          ]
        },
        {
          "output_type": "display_data",
          "data": {
            "text/plain": [
              "<Figure size 720x360 with 1 Axes>"
            ],
            "image/png": "[encoded data removed]"
          },
          "metadata": {
            "needs_background": "light"
          }
        }
      ],
      "source": [
        "# your code goes here\n",
        "plt.figure(figsize=(10,5))\n",
        "sns.distplot(a=df[\"Age\"],bins=20,kde=False)\n",
        "plt.show()"
      ]
    },
    {
      "cell_type": "code",
      "source": [
        "plt.hist(df['Age'])"
      ],
      "metadata": {
        "colab": {
          "base_uri": "https://localhost:8080/",
          "height": 334
        },
        "id": "GsU_UNR17841",
        "outputId": "69f55c1e-bf1d-40f4-d0e3-c1fe4880a4bf"
      },
      "execution_count": 24,
      "outputs": [
        {
          "output_type": "execute_result",
          "data": {
            "text/plain": [
              "(array([2.094e+03, 5.337e+03, 2.557e+03, 8.420e+02, 2.250e+02, 4.900e+01,\n",
              "        6.000e+00, 0.000e+00, 0.000e+00, 1.000e+00]),\n",
              " array([16. , 24.3, 32.6, 40.9, 49.2, 57.5, 65.8, 74.1, 82.4, 90.7, 99. ]),\n",
              " <a list of 10 Patch objects>)"
            ]
          },
          "metadata": {},
          "execution_count": 24
        },
        {
          "output_type": "display_data",
          "data": {
            "text/plain": [
              "<Figure size 432x288 with 1 Axes>"
            ],
            "image/png": "[encoded data removed]"
          },
          "metadata": {
            "needs_background": "light"
          }
        }
      ]
    },
    {
      "cell_type": "code",
      "source": [
        "sns.histplot(df['Age'])"
      ],
      "metadata": {
        "colab": {
          "base_uri": "https://localhost:8080/",
          "height": 296
        },
        "id": "P5pg6qH37xh2",
        "outputId": "ea61bffd-18d8-4aa0-9e16-3df6f0d38511"
      },
      "execution_count": 23,
      "outputs": [
        {
          "output_type": "execute_result",
          "data": {
            "text/plain": [
              "<matplotlib.axes._subplots.AxesSubplot at 0x7fd2914027d0>"
            ]
          },
          "metadata": {},
          "execution_count": 23
        },
        {
          "output_type": "display_data",
          "data": {
            "text/plain": [
              "<Figure size 432x288 with 1 Axes>"
            ],
            "image/png": "[encoded data removed]"
          },
          "metadata": {
            "needs_background": "light"
          }
        }
      ]
    },
    {
      "cell_type": "markdown",
      "metadata": {
        "id": "8g8sRPjb4d7I"
      },
      "source": [
        "## Outliers\n"
      ]
    },
    {
      "cell_type": "markdown",
      "metadata": {
        "id": "Az0TD_kg4d7I"
      },
      "source": [
        "### Finding outliers\n"
      ]
    },
    {
      "cell_type": "markdown",
      "metadata": {
        "id": "Z56UGOVC4d7I"
      },
      "source": [
        "Find out if outliers exist in the column `ConvertedComp` using a box plot?\n"
      ]
    },
    {
      "cell_type": "code",
      "execution_count": 25,
      "metadata": {
        "colab": {
          "base_uri": "https://localhost:8080/",
          "height": 334
        },
        "id": "JD2usfsw4d7I",
        "outputId": "b76f514d-581c-489b-8c3f-33db39dc3730"
      },
      "outputs": [
        {
          "output_type": "display_data",
          "data": {
            "text/plain": [
              "<Figure size 720x360 with 1 Axes>"
            ],
            "image/png": "[encoded data removed]"
          },
          "metadata": {
            "needs_background": "light"
          }
        }
      ],
      "source": [
        "# your code goes here\n",
        "plt.figure(figsize=(10,5))\n",
        "sns.boxplot(x=df.ConvertedComp, data=df)\n",
        "plt.show()"
      ]
    },
    {
      "cell_type": "code",
      "source": [
        "ax = sns.boxplot(x=df['ConvertedComp'])"
      ],
      "metadata": {
        "colab": {
          "base_uri": "https://localhost:8080/",
          "height": 279
        },
        "id": "YiLW6AL28T5V",
        "outputId": "0806355a-2401-43cf-ad69-2bbf1e4aad53"
      },
      "execution_count": 26,
      "outputs": [
        {
          "output_type": "display_data",
          "data": {
            "text/plain": [
              "<Figure size 432x288 with 1 Axes>"
            ],
            "image/png": "[encoded data removed]"
          },
          "metadata": {
            "needs_background": "light"
          }
        }
      ]
    },
    {
      "cell_type": "code",
      "source": [
        "ax = sns.boxplot(x=df['Age'])"
      ],
      "metadata": {
        "colab": {
          "base_uri": "https://localhost:8080/",
          "height": 279
        },
        "id": "U3XLlRFp8eok",
        "outputId": "c0793e8c-ff74-4807-b8ff-c3c10e8f04d8"
      },
      "execution_count": 27,
      "outputs": [
        {
          "output_type": "display_data",
          "data": {
            "text/plain": [
              "<Figure size 432x288 with 1 Axes>"
            ],
            "image/png": "[encoded data removed]"
          },
          "metadata": {
            "needs_background": "light"
          }
        }
      ]
    },
    {
      "cell_type": "code",
      "source": [
        "plt.figure(figsize=(10,5))\n",
        "sns.boxplot(x=df.Age, data=df)\n",
        "plt.show()"
      ],
      "metadata": {
        "colab": {
          "base_uri": "https://localhost:8080/",
          "height": 334
        },
        "id": "SDhZmT_D8mKM",
        "outputId": "48d5a728-b314-43d2-9195-c195d953d3c8"
      },
      "execution_count": 28,
      "outputs": [
        {
          "output_type": "display_data",
          "data": {
            "text/plain": [
              "<Figure size 720x360 with 1 Axes>"
            ],
            "image/png": "[encoded data removed]"
          },
          "metadata": {
            "needs_background": "light"
          }
        }
      ]
    },
    {
      "cell_type": "markdown",
      "metadata": {
        "id": "kftwh3g04d7J"
      },
      "source": [
        "Find out the Inter Quartile Range for the column `ConvertedComp`.\n"
      ]
    },
    {
      "cell_type": "code",
      "execution_count": 29,
      "metadata": {
        "colab": {
          "base_uri": "https://localhost:8080/"
        },
        "id": "SyPoyhoq4d7J",
        "outputId": "b1e0df30-29cd-4004-afbc-0fad0b8ddde3"
      },
      "outputs": [
        {
          "output_type": "execute_result",
          "data": {
            "text/plain": [
              "count    1.058200e+04\n",
              "mean     1.315967e+05\n",
              "std      2.947865e+05\n",
              "min      0.000000e+00\n",
              "25%      2.686800e+04\n",
              "50%      5.774500e+04\n",
              "75%      1.000000e+05\n",
              "max      2.000000e+06\n",
              "Name: ConvertedComp, dtype: float64"
            ]
          },
          "metadata": {},
          "execution_count": 29
        }
      ],
      "source": [
        "# your code goes here\n",
        "df[\"ConvertedComp\"].describe()"
      ]
    },
    {
      "cell_type": "code",
      "source": [
        "IQR = df['ConvertedComp'].quantile(0.75) - df['ConvertedComp'].quantile(0.25)\n",
        "IQR"
      ],
      "metadata": {
        "colab": {
          "base_uri": "https://localhost:8080/"
        },
        "id": "r3dtqgWp9D-u",
        "outputId": "1c763d5f-b0db-4753-8189-c4771c648c3b"
      },
      "execution_count": 30,
      "outputs": [
        {
          "output_type": "execute_result",
          "data": {
            "text/plain": [
              "73132.0"
            ]
          },
          "metadata": {},
          "execution_count": 30
        }
      ]
    },
    {
      "cell_type": "code",
      "source": [
        "Q1 = df[\"ConvertedComp\"].quantile(0.25)\n",
        "Q3 = df[\"ConvertedComp\"].quantile(0.75)\n",
        "IQR = Q3 - Q1\n",
        "print(IQR)"
      ],
      "metadata": {
        "colab": {
          "base_uri": "https://localhost:8080/"
        },
        "id": "mi6Z4AZ59eh5",
        "outputId": "a656f0ad-fc6c-4f9e-bb4f-bea89043ea4f"
      },
      "execution_count": 31,
      "outputs": [
        {
          "output_type": "stream",
          "name": "stdout",
          "text": [
            "73132.0\n"
          ]
        }
      ]
    },
    {
      "cell_type": "markdown",
      "metadata": {
        "id": "N9GMAIU-4d7J"
      },
      "source": [
        "Find out the upper and lower bounds.\n"
      ]
    },
    {
      "cell_type": "code",
      "execution_count": 32,
      "metadata": {
        "colab": {
          "base_uri": "https://localhost:8080/"
        },
        "id": "aMYRpG4y4d7J",
        "outputId": "db5a9f74-4135-4265-8848-a40dbf3edfbc"
      },
      "outputs": [
        {
          "output_type": "stream",
          "name": "stdout",
          "text": [
            "Upper bound:  209698.0\n",
            "Lower bound:  -82830.0\n"
          ]
        }
      ],
      "source": [
        "# your code goes here\n",
        "upper = Q3+(IQR*1.5)\n",
        "lower = Q1-(IQR*1.5)\n",
        "\n",
        "print('Upper bound: ', upper)\n",
        "print('Lower bound: ', lower)"
      ]
    },
    {
      "cell_type": "code",
      "source": [
        "Upbound = df['ConvertedComp'].quantile(0.75) + 1.5*IQR\n",
        "Upbound"
      ],
      "metadata": {
        "colab": {
          "base_uri": "https://localhost:8080/"
        },
        "id": "BvALe1x49yPj",
        "outputId": "b8a45c9e-89b9-4575-b7ad-342a4cd634ce"
      },
      "execution_count": 33,
      "outputs": [
        {
          "output_type": "execute_result",
          "data": {
            "text/plain": [
              "209698.0"
            ]
          },
          "metadata": {},
          "execution_count": 33
        }
      ]
    },
    {
      "cell_type": "markdown",
      "metadata": {
        "id": "VQ5Uw9ze4d7K"
      },
      "source": [
        "Identify how many outliers are there in the `ConvertedComp` column.\n"
      ]
    },
    {
      "cell_type": "code",
      "execution_count": 35,
      "metadata": {
        "colab": {
          "base_uri": "https://localhost:8080/"
        },
        "id": "a0OIlmfA4d7K",
        "outputId": "e188f6aa-d18a-4ec6-d8be-af4befcdb9ec"
      },
      "outputs": [
        {
          "output_type": "execute_result",
          "data": {
            "text/plain": [
              "879"
            ]
          },
          "metadata": {},
          "execution_count": 35
        }
      ],
      "source": [
        "# your code goes here\n",
        "len(df[df['ConvertedComp'] > Upbound])"
      ]
    },
    {
      "cell_type": "code",
      "source": [
        "outliers = (df[\"ConvertedComp\"] < (Q1 - 1.5 * IQR)) | (df[\"ConvertedComp\"] > (Q3 + 1.5 * IQR))\n",
        "outliers.value_counts()"
      ],
      "metadata": {
        "colab": {
          "base_uri": "https://localhost:8080/"
        },
        "id": "QHbu4M1c-Tig",
        "outputId": "7e6b70d3-f411-4fca-b022-25d5350adf64"
      },
      "execution_count": 36,
      "outputs": [
        {
          "output_type": "execute_result",
          "data": {
            "text/plain": [
              "False    10519\n",
              "True       879\n",
              "Name: ConvertedComp, dtype: int64"
            ]
          },
          "metadata": {},
          "execution_count": 36
        }
      ]
    },
    {
      "cell_type": "markdown",
      "metadata": {
        "id": "0ulnOeul4d7K"
      },
      "source": [
        "Create a new dataframe by removing the outliers from the `ConvertedComp` column.\n"
      ]
    },
    {
      "cell_type": "code",
      "execution_count": 37,
      "metadata": {
        "id": "RSXfnYIq4d7K"
      },
      "outputs": [],
      "source": [
        "# your code goes here\n",
        "df2 = df[df['ConvertedComp'] <= Upbound]"
      ]
    },
    {
      "cell_type": "code",
      "source": [
        "df2.describe()"
      ],
      "metadata": {
        "colab": {
          "base_uri": "https://localhost:8080/",
          "height": 300
        },
        "id": "3ilElCRR_RPO",
        "outputId": "4dd3f397-295a-4e95-b89c-92f54fd41261"
      },
      "execution_count": 38,
      "outputs": [
        {
          "output_type": "execute_result",
          "data": {
            "text/plain": [
              "         Respondent     CompTotal  ConvertedComp  WorkWeekHrs   CodeRevHrs  \\\n",
              "count   9703.000000  9.703000e+03    9703.000000  9664.000000  7612.000000   \n",
              "mean   12501.007317  7.241139e+05   59883.208389    41.864782     4.737455   \n",
              "std     7235.627217  7.186806e+06   43394.336755    24.613489     4.420472   \n",
              "min        4.000000  0.000000e+00       0.000000     3.000000     0.000000   \n",
              "25%     6237.000000  2.000000e+04   24060.000000    40.000000     2.000000   \n",
              "50%    12571.000000  6.300000e+04   52704.000000    40.000000     4.000000   \n",
              "75%    18787.500000  1.150000e+05   85574.500000    42.000000     5.000000   \n",
              "max    25141.000000  3.900000e+08  209356.000000  1012.000000    99.000000   \n",
              "\n",
              "               Age  \n",
              "count  9493.000000  \n",
              "mean     30.695860  \n",
              "std       7.346625  \n",
              "min      16.000000  \n",
              "25%      25.000000  \n",
              "50%      29.000000  \n",
              "75%      34.000000  \n",
              "max      99.000000  "
            ],
            "text/html": [
              "\n",
              "  <div id=\"df-4f7e10e5-2195-4070-ac2d-e6a06eb123ea\">\n",
              "    <div class=\"colab-df-container\">\n",
              "      <div>\n",
              "<style scoped>\n",
              "    .dataframe tbody tr th:only-of-type {\n",
              "        vertical-align: middle;\n",
              "    }\n",
              "\n",
              "    .dataframe tbody tr th {\n",
              "        vertical-align: top;\n",
              "    }\n",
              "\n",
              "    .dataframe thead th {\n",
              "        text-align: right;\n",
              "    }\n",
              "</style>\n",
              "<table border=\"1\" class=\"dataframe\">\n",
              "  <thead>\n",
              "    <tr style=\"text-align: right;\">\n",
              "      <th></th>\n",
              "      <th>Respondent</th>\n",
              "      <th>CompTotal</th>\n",
              "      <th>ConvertedComp</th>\n",
              "      <th>WorkWeekHrs</th>\n",
              "      <th>CodeRevHrs</th>\n",
              "      <th>Age</th>\n",
              "    </tr>\n",
              "  </thead>\n",
              "  <tbody>\n",
              "    <tr>\n",
              "      <th>count</th>\n",
              "      <td>9703.000000</td>\n",
              "      <td>9.703000e+03</td>\n",
              "      <td>9703.000000</td>\n",
              "      <td>9664.000000</td>\n",
              "      <td>7612.000000</td>\n",
              "      <td>9493.000000</td>\n",
              "    </tr>\n",
              "    <tr>\n",
              "      <th>mean</th>\n",
              "      <td>12501.007317</td>\n",
              "      <td>7.241139e+05</td>\n",
              "      <td>59883.208389</td>\n",
              "      <td>41.864782</td>\n",
              "      <td>4.737455</td>\n",
              "      <td>30.695860</td>\n",
              "    </tr>\n",
              "    <tr>\n",
              "      <th>std</th>\n",
              "      <td>7235.627217</td>\n",
              "      <td>7.186806e+06</td>\n",
              "      <td>43394.336755</td>\n",
              "      <td>24.613489</td>\n",
              "      <td>4.420472</td>\n",
              "      <td>7.346625</td>\n",
              "    </tr>\n",
              "    <tr>\n",
              "      <th>min</th>\n",
              "      <td>4.000000</td>\n",
              "      <td>0.000000e+00</td>\n",
              "      <td>0.000000</td>\n",
              "      <td>3.000000</td>\n",
              "      <td>0.000000</td>\n",
              "      <td>16.000000</td>\n",
              "    </tr>\n",
              "    <tr>\n",
              "      <th>25%</th>\n",
              "      <td>6237.000000</td>\n",
              "      <td>2.000000e+04</td>\n",
              "      <td>24060.000000</td>\n",
              "      <td>40.000000</td>\n",
              "      <td>2.000000</td>\n",
              "      <td>25.000000</td>\n",
              "    </tr>\n",
              "    <tr>\n",
              "      <th>50%</th>\n",
              "      <td>12571.000000</td>\n",
              "      <td>6.300000e+04</td>\n",
              "      <td>52704.000000</td>\n",
              "      <td>40.000000</td>\n",
              "      <td>4.000000</td>\n",
              "      <td>29.000000</td>\n",
              "    </tr>\n",
              "    <tr>\n",
              "      <th>75%</th>\n",
              "      <td>18787.500000</td>\n",
              "      <td>1.150000e+05</td>\n",
              "      <td>85574.500000</td>\n",
              "      <td>42.000000</td>\n",
              "      <td>5.000000</td>\n",
              "      <td>34.000000</td>\n",
              "    </tr>\n",
              "    <tr>\n",
              "      <th>max</th>\n",
              "      <td>25141.000000</td>\n",
              "      <td>3.900000e+08</td>\n",
              "      <td>209356.000000</td>\n",
              "      <td>1012.000000</td>\n",
              "      <td>99.000000</td>\n",
              "      <td>99.000000</td>\n",
              "    </tr>\n",
              "  </tbody>\n",
              "</table>\n",
              "</div>\n",
              "      <button class=\"colab-df-convert\" onclick=\"convertToInteractive('df-4f7e10e5-2195-4070-ac2d-e6a06eb123ea')\"\n",
              "              title=\"Convert this dataframe to an interactive table.\"\n",
              "              style=\"display:none;\">\n",
              "        \n",
              "  <svg xmlns=\"http://www.w3.org/2000/svg\" height=\"24px\"viewBox=\"0 0 24 24\"\n",
              "       width=\"24px\">\n",
              "    <path d=\"M0 0h24v24H0V0z\" fill=\"none\"/>\n",
              "    <path d=\"M18.56 5.44l.94 2.06.94-2.06 2.06-.94-2.06-.94-.94-2.06-.94 2.06-2.06.94zm-11 1L8.5 8.5l.94-2.06 2.06-.94-2.06-.94L8.5 2.5l-.94 2.06-2.06.94zm10 10l.94 2.06.94-2.06 2.06-.94-2.06-.94-.94-2.06-.94 2.06-2.06.94z\"/><path d=\"M17.41 7.96l-1.37-1.37c-.4-.4-.92-.59-1.43-.59-.52 0-1.04.2-1.43.59L10.3 9.45l-7.72 7.72c-.78.78-.78 2.05 0 2.83L4 21.41c.39.39.9.59 1.41.59.51 0 1.02-.2 1.41-.59l7.78-7.78 2.81-2.81c.8-.78.8-2.07 0-2.86zM5.41 20L4 18.59l7.72-7.72 1.47 1.35L5.41 20z\"/>\n",
              "  </svg>\n",
              "      </button>\n",
              "      \n",
              "  <style>\n",
              "    .colab-df-container {\n",
              "      display:flex;\n",
              "      flex-wrap:wrap;\n",
              "      gap: 12px;\n",
              "    }\n",
              "\n",
              "    .colab-df-convert {\n",
              "      background-color: #E8F0FE;\n",
              "      border: none;\n",
              "      border-radius: 50%;\n",
              "      cursor: pointer;\n",
              "      display: none;\n",
              "      fill: #1967D2;\n",
              "      height: 32px;\n",
              "      padding: 0 0 0 0;\n",
              "      width: 32px;\n",
              "    }\n",
              "\n",
              "    .colab-df-convert:hover {\n",
              "      background-color: #E2EBFA;\n",
              "      box-shadow: 0px 1px 2px rgba(60, 64, 67, 0.3), 0px 1px 3px 1px rgba(60, 64, 67, 0.15);\n",
              "      fill: #174EA6;\n",
              "    }\n",
              "\n",
              "    [theme=dark] .colab-df-convert {\n",
              "      background-color: #3B4455;\n",
              "      fill: #D2E3FC;\n",
              "    }\n",
              "\n",
              "    [theme=dark] .colab-df-convert:hover {\n",
              "      background-color: #434B5C;\n",
              "      box-shadow: 0px 1px 3px 1px rgba(0, 0, 0, 0.15);\n",
              "      filter: drop-shadow(0px 1px 2px rgba(0, 0, 0, 0.3));\n",
              "      fill: #FFFFFF;\n",
              "    }\n",
              "  </style>\n",
              "\n",
              "      <script>\n",
              "        const buttonEl =\n",
              "          document.querySelector('#df-4f7e10e5-2195-4070-ac2d-e6a06eb123ea button.colab-df-convert');\n",
              "        buttonEl.style.display =\n",
              "          google.colab.kernel.accessAllowed ? 'block' : 'none';\n",
              "\n",
              "        async function convertToInteractive(key) {\n",
              "          const element = document.querySelector('#df-4f7e10e5-2195-4070-ac2d-e6a06eb123ea');\n",
              "          const dataTable =\n",
              "            await google.colab.kernel.invokeFunction('convertToInteractive',\n",
              "                                                     [key], {});\n",
              "          if (!dataTable) return;\n",
              "\n",
              "          const docLinkHtml = 'Like what you see? Visit the ' +\n",
              "            '<a target=\"_blank\" href=https://colab.research.google.com/notebooks/data_table.ipynb>data table notebook</a>'\n",
              "            + ' to learn more about interactive tables.';\n",
              "          element.innerHTML = '';\n",
              "          dataTable['output_type'] = 'display_data';\n",
              "          await google.colab.output.renderOutput(dataTable, element);\n",
              "          const docLink = document.createElement('div');\n",
              "          docLink.innerHTML = docLinkHtml;\n",
              "          element.appendChild(docLink);\n",
              "        }\n",
              "      </script>\n",
              "    </div>\n",
              "  </div>\n",
              "  "
            ]
          },
          "metadata": {},
          "execution_count": 38
        }
      ]
    },
    {
      "cell_type": "code",
      "source": [
        "df2['ConvertedComp'].describe()"
      ],
      "metadata": {
        "colab": {
          "base_uri": "https://localhost:8080/"
        },
        "id": "GSON-JL0_heH",
        "outputId": "fac63291-9274-40b1-882f-afc872d7bac4"
      },
      "execution_count": 40,
      "outputs": [
        {
          "output_type": "execute_result",
          "data": {
            "text/plain": [
              "count      9703.000000\n",
              "mean      59883.208389\n",
              "std       43394.336755\n",
              "min           0.000000\n",
              "25%       24060.000000\n",
              "50%       52704.000000\n",
              "75%       85574.500000\n",
              "max      209356.000000\n",
              "Name: ConvertedComp, dtype: float64"
            ]
          },
          "metadata": {},
          "execution_count": 40
        }
      ]
    },
    {
      "cell_type": "code",
      "source": [
        "df2['ConvertedComp'].median()"
      ],
      "metadata": {
        "colab": {
          "base_uri": "https://localhost:8080/"
        },
        "id": "84Ofybyj_eRe",
        "outputId": "d5088b0d-1bcf-44a3-fa3e-dafc8e857c93"
      },
      "execution_count": 39,
      "outputs": [
        {
          "output_type": "execute_result",
          "data": {
            "text/plain": [
              "52704.0"
            ]
          },
          "metadata": {},
          "execution_count": 39
        }
      ]
    },
    {
      "cell_type": "code",
      "source": [
        "df2['ConvertedComp'].mean()"
      ],
      "metadata": {
        "colab": {
          "base_uri": "https://localhost:8080/"
        },
        "id": "xvHXMnXH_rg4",
        "outputId": "46899a69-11a2-4a66-97ca-22dc4a752ea6"
      },
      "execution_count": 41,
      "outputs": [
        {
          "output_type": "execute_result",
          "data": {
            "text/plain": [
              "59883.20838915799"
            ]
          },
          "metadata": {},
          "execution_count": 41
        }
      ]
    },
    {
      "cell_type": "markdown",
      "metadata": {
        "id": "fud9VrRL4d7L"
      },
      "source": [
        "## Correlation\n"
      ]
    },
    {
      "cell_type": "markdown",
      "metadata": {
        "id": "vWwlwQs04d7L"
      },
      "source": [
        "### Finding correlation\n"
      ]
    },
    {
      "cell_type": "markdown",
      "metadata": {
        "id": "L8GLMLNa4d7L"
      },
      "source": [
        "Find the correlation between `Age` and all other numerical columns.\n"
      ]
    },
    {
      "cell_type": "code",
      "execution_count": 42,
      "metadata": {
        "colab": {
          "base_uri": "https://localhost:8080/",
          "height": 238
        },
        "id": "zj-5g7To4d7L",
        "outputId": "31498020-317f-4194-a4e6-9f14977e6091"
      },
      "outputs": [
        {
          "output_type": "execute_result",
          "data": {
            "text/plain": [
              "               Respondent  CompTotal  ConvertedComp  WorkWeekHrs  CodeRevHrs  \\\n",
              "Respondent       1.000000  -0.013490       0.002181    -0.015314    0.004621   \n",
              "CompTotal       -0.013490   1.000000       0.001037     0.003510    0.007063   \n",
              "ConvertedComp    0.002181   0.001037       1.000000     0.021143   -0.033865   \n",
              "WorkWeekHrs     -0.015314   0.003510       0.021143     1.000000    0.026517   \n",
              "CodeRevHrs       0.004621   0.007063      -0.033865     0.026517    1.000000   \n",
              "Age              0.004041   0.006970       0.105386     0.036518   -0.020469   \n",
              "\n",
              "                    Age  \n",
              "Respondent     0.004041  \n",
              "CompTotal      0.006970  \n",
              "ConvertedComp  0.105386  \n",
              "WorkWeekHrs    0.036518  \n",
              "CodeRevHrs    -0.020469  \n",
              "Age            1.000000  "
            ],
            "text/html": [
              "\n",
              "  <div id=\"df-416081a0-3cae-493f-ab81-bbb9be5332ac\">\n",
              "    <div class=\"colab-df-container\">\n",
              "      <div>\n",
              "<style scoped>\n",
              "    .dataframe tbody tr th:only-of-type {\n",
              "        vertical-align: middle;\n",
              "    }\n",
              "\n",
              "    .dataframe tbody tr th {\n",
              "        vertical-align: top;\n",
              "    }\n",
              "\n",
              "    .dataframe thead th {\n",
              "        text-align: right;\n",
              "    }\n",
              "</style>\n",
              "<table border=\"1\" class=\"dataframe\">\n",
              "  <thead>\n",
              "    <tr style=\"text-align: right;\">\n",
              "      <th></th>\n",
              "      <th>Respondent</th>\n",
              "      <th>CompTotal</th>\n",
              "      <th>ConvertedComp</th>\n",
              "      <th>WorkWeekHrs</th>\n",
              "      <th>CodeRevHrs</th>\n",
              "      <th>Age</th>\n",
              "    </tr>\n",
              "  </thead>\n",
              "  <tbody>\n",
              "    <tr>\n",
              "      <th>Respondent</th>\n",
              "      <td>1.000000</td>\n",
              "      <td>-0.013490</td>\n",
              "      <td>0.002181</td>\n",
              "      <td>-0.015314</td>\n",
              "      <td>0.004621</td>\n",
              "      <td>0.004041</td>\n",
              "    </tr>\n",
              "    <tr>\n",
              "      <th>CompTotal</th>\n",
              "      <td>-0.013490</td>\n",
              "      <td>1.000000</td>\n",
              "      <td>0.001037</td>\n",
              "      <td>0.003510</td>\n",
              "      <td>0.007063</td>\n",
              "      <td>0.006970</td>\n",
              "    </tr>\n",
              "    <tr>\n",
              "      <th>ConvertedComp</th>\n",
              "      <td>0.002181</td>\n",
              "      <td>0.001037</td>\n",
              "      <td>1.000000</td>\n",
              "      <td>0.021143</td>\n",
              "      <td>-0.033865</td>\n",
              "      <td>0.105386</td>\n",
              "    </tr>\n",
              "    <tr>\n",
              "      <th>WorkWeekHrs</th>\n",
              "      <td>-0.015314</td>\n",
              "      <td>0.003510</td>\n",
              "      <td>0.021143</td>\n",
              "      <td>1.000000</td>\n",
              "      <td>0.026517</td>\n",
              "      <td>0.036518</td>\n",
              "    </tr>\n",
              "    <tr>\n",
              "      <th>CodeRevHrs</th>\n",
              "      <td>0.004621</td>\n",
              "      <td>0.007063</td>\n",
              "      <td>-0.033865</td>\n",
              "      <td>0.026517</td>\n",
              "      <td>1.000000</td>\n",
              "      <td>-0.020469</td>\n",
              "    </tr>\n",
              "    <tr>\n",
              "      <th>Age</th>\n",
              "      <td>0.004041</td>\n",
              "      <td>0.006970</td>\n",
              "      <td>0.105386</td>\n",
              "      <td>0.036518</td>\n",
              "      <td>-0.020469</td>\n",
              "      <td>1.000000</td>\n",
              "    </tr>\n",
              "  </tbody>\n",
              "</table>\n",
              "</div>\n",
              "      <button class=\"colab-df-convert\" onclick=\"convertToInteractive('df-416081a0-3cae-493f-ab81-bbb9be5332ac')\"\n",
              "              title=\"Convert this dataframe to an interactive table.\"\n",
              "              style=\"display:none;\">\n",
              "        \n",
              "  <svg xmlns=\"http://www.w3.org/2000/svg\" height=\"24px\"viewBox=\"0 0 24 24\"\n",
              "       width=\"24px\">\n",
              "    <path d=\"M0 0h24v24H0V0z\" fill=\"none\"/>\n",
              "    <path d=\"M18.56 5.44l.94 2.06.94-2.06 2.06-.94-2.06-.94-.94-2.06-.94 2.06-2.06.94zm-11 1L8.5 8.5l.94-2.06 2.06-.94-2.06-.94L8.5 2.5l-.94 2.06-2.06.94zm10 10l.94 2.06.94-2.06 2.06-.94-2.06-.94-.94-2.06-.94 2.06-2.06.94z\"/><path d=\"M17.41 7.96l-1.37-1.37c-.4-.4-.92-.59-1.43-.59-.52 0-1.04.2-1.43.59L10.3 9.45l-7.72 7.72c-.78.78-.78 2.05 0 2.83L4 21.41c.39.39.9.59 1.41.59.51 0 1.02-.2 1.41-.59l7.78-7.78 2.81-2.81c.8-.78.8-2.07 0-2.86zM5.41 20L4 18.59l7.72-7.72 1.47 1.35L5.41 20z\"/>\n",
              "  </svg>\n",
              "      </button>\n",
              "      \n",
              "  <style>\n",
              "    .colab-df-container {\n",
              "      display:flex;\n",
              "      flex-wrap:wrap;\n",
              "      gap: 12px;\n",
              "    }\n",
              "\n",
              "    .colab-df-convert {\n",
              "      background-color: #E8F0FE;\n",
              "      border: none;\n",
              "      border-radius: 50%;\n",
              "      cursor: pointer;\n",
              "      display: none;\n",
              "      fill: #1967D2;\n",
              "      height: 32px;\n",
              "      padding: 0 0 0 0;\n",
              "      width: 32px;\n",
              "    }\n",
              "\n",
              "    .colab-df-convert:hover {\n",
              "      background-color: #E2EBFA;\n",
              "      box-shadow: 0px 1px 2px rgba(60, 64, 67, 0.3), 0px 1px 3px 1px rgba(60, 64, 67, 0.15);\n",
              "      fill: #174EA6;\n",
              "    }\n",
              "\n",
              "    [theme=dark] .colab-df-convert {\n",
              "      background-color: #3B4455;\n",
              "      fill: #D2E3FC;\n",
              "    }\n",
              "\n",
              "    [theme=dark] .colab-df-convert:hover {\n",
              "      background-color: #434B5C;\n",
              "      box-shadow: 0px 1px 3px 1px rgba(0, 0, 0, 0.15);\n",
              "      filter: drop-shadow(0px 1px 2px rgba(0, 0, 0, 0.3));\n",
              "      fill: #FFFFFF;\n",
              "    }\n",
              "  </style>\n",
              "\n",
              "      <script>\n",
              "        const buttonEl =\n",
              "          document.querySelector('#df-416081a0-3cae-493f-ab81-bbb9be5332ac button.colab-df-convert');\n",
              "        buttonEl.style.display =\n",
              "          google.colab.kernel.accessAllowed ? 'block' : 'none';\n",
              "\n",
              "        async function convertToInteractive(key) {\n",
              "          const element = document.querySelector('#df-416081a0-3cae-493f-ab81-bbb9be5332ac');\n",
              "          const dataTable =\n",
              "            await google.colab.kernel.invokeFunction('convertToInteractive',\n",
              "                                                     [key], {});\n",
              "          if (!dataTable) return;\n",
              "\n",
              "          const docLinkHtml = 'Like what you see? Visit the ' +\n",
              "            '<a target=\"_blank\" href=https://colab.research.google.com/notebooks/data_table.ipynb>data table notebook</a>'\n",
              "            + ' to learn more about interactive tables.';\n",
              "          element.innerHTML = '';\n",
              "          dataTable['output_type'] = 'display_data';\n",
              "          await google.colab.output.renderOutput(dataTable, element);\n",
              "          const docLink = document.createElement('div');\n",
              "          docLink.innerHTML = docLinkHtml;\n",
              "          element.appendChild(docLink);\n",
              "        }\n",
              "      </script>\n",
              "    </div>\n",
              "  </div>\n",
              "  "
            ]
          },
          "metadata": {},
          "execution_count": 42
        }
      ],
      "source": [
        "# your code goes here\n",
        "df.corr()"
      ]
    },
    {
      "cell_type": "code",
      "source": [
        "df.corr()['Age']"
      ],
      "metadata": {
        "colab": {
          "base_uri": "https://localhost:8080/"
        },
        "id": "xFyPsbdR_7N5",
        "outputId": "90723012-0f3a-43b9-a46b-9bb19705ad0e"
      },
      "execution_count": 43,
      "outputs": [
        {
          "output_type": "execute_result",
          "data": {
            "text/plain": [
              "Respondent       0.004041\n",
              "CompTotal        0.006970\n",
              "ConvertedComp    0.105386\n",
              "WorkWeekHrs      0.036518\n",
              "CodeRevHrs      -0.020469\n",
              "Age              1.000000\n",
              "Name: Age, dtype: float64"
            ]
          },
          "metadata": {},
          "execution_count": 43
        }
      ]
    },
    {
      "cell_type": "markdown",
      "metadata": {
        "id": "SlTVZIJu4d7M"
      },
      "source": [
        "## Authors\n"
      ]
    },
    {
      "cell_type": "markdown",
      "metadata": {
        "id": "vwdeR7gF4d7M"
      },
      "source": [
        "Ramesh Sannareddy\n"
      ]
    },
    {
      "cell_type": "markdown",
      "metadata": {
        "id": "yq3hW-mI4d7M"
      },
      "source": [
        "### Other Contributors\n"
      ]
    },
    {
      "cell_type": "markdown",
      "metadata": {
        "id": "enGSKrah4d7M"
      },
      "source": [
        "Rav Ahuja\n"
      ]
    },
    {
      "cell_type": "markdown",
      "metadata": {
        "id": "iXf0LDof4d7N"
      },
      "source": [
        "## Change Log\n"
      ]
    },
    {
      "cell_type": "markdown",
      "metadata": {
        "id": "7rN17FvR4d7N"
      },
      "source": [
        "| Date (YYYY-MM-DD) | Version | Changed By        | Change Description                 |\n",
        "| ----------------- | ------- | ----------------- | ---------------------------------- |\n",
        "| 2020-10-17        | 0.1     | Ramesh Sannareddy | Created initial version of the lab |\n"
      ]
    },
    {
      "cell_type": "markdown",
      "metadata": {
        "id": "dLOoe6Fv4d7N"
      },
      "source": [
        "Copyright © 2020 IBM Corporation. This notebook and its source code are released under the terms of the [MIT License](https://cognitiveclass.ai/mit-license?utm_medium=Exinfluencer&utm_source=Exinfluencer&utm_content=000026UJ&utm_term=10006555&utm_id=NA-SkillsNetwork-Channel-SkillsNetworkCoursesIBMDA0321ENSkillsNetwork21426264-2021-01-01&cm_mmc=Email_Newsletter-\\_-Developer_Ed%2BTech-\\_-WW_WW-\\_-SkillsNetwork-Courses-IBM-DA0321EN-SkillsNetwork-21426264&cm_mmca1=000026UJ&cm_mmca2=10006555&cm_mmca3=M12345678&cvosrc=email.Newsletter.M12345678&cvo_campaign=000026UJ).\n"
      ]
    }
  ],
  "metadata": {
    "kernelspec": {
      "display_name": "Python 3",
      "language": "python",
      "name": "python3"
    },
    "language_info": {
      "codemirror_mode": {
        "name": "ipython",
        "version": 3
      },
      "file_extension": ".py",
      "mimetype": "text/x-python",
      "name": "python",
      "nbconvert_exporter": "python",
      "pygments_lexer": "ipython3",
      "version": "3.7.6"
    },
    "colab": {
      "name": "M3ExploratoryDataAnalysis-lab.ipynb",
      "provenance": [],
      "include_colab_link": true
    }
  },
  "nbformat": 4,
  "nbformat_minor": 0
}